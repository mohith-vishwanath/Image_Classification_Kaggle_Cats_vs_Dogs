{
  "nbformat": 4,
  "nbformat_minor": 0,
  "metadata": {
    "colab": {
      "name": "Tensorflow - Cats_vs_Dogs.ipynb",
      "provenance": [],
      "authorship_tag": "ABX9TyNuvWJRvYJ+M/GFpenNdqaa",
      "include_colab_link": true
    },
    "kernelspec": {
      "name": "python3",
      "display_name": "Python 3"
    },
    "language_info": {
      "name": "python"
    }
  },
  "cells": [
    {
      "cell_type": "markdown",
      "metadata": {
        "id": "view-in-github",
        "colab_type": "text"
      },
      "source": [
        "<a href=\"https://colab.research.google.com/github/mohith-vishwanath/Image_Classification_Kaggle_Cats_vs_Dogs/blob/main/Tensorflow_Cats_vs_Dogs.ipynb\" target=\"_parent\"><img src=\"https://colab.research.google.com/assets/colab-badge.svg\" alt=\"Open In Colab\"/></a>"
      ]
    },
    {
      "cell_type": "markdown",
      "metadata": {
        "id": "vcXeL4-roE5u"
      },
      "source": [
        "Imports"
      ]
    },
    {
      "cell_type": "code",
      "metadata": {
        "id": "6sqxwqThoAt5"
      },
      "source": [
        "import numpy as np\n",
        "import tensorflow as tf\n",
        "from tensorflow import keras\n",
        "from tensorflow.keras.models import Sequential\n",
        "from tensorflow.keras.layers import Dense, Activation, Flatten, BatchNormalization, Conv2D, MaxPool2D\n",
        "from tensorflow.keras.optimizers import Adam\n",
        "from tensorflow.keras.metrics import categorical_crossentropy\n",
        "from tensorflow.keras.preprocessing.image import ImageDataGenerator\n",
        "from sklearn.metrics import confusion_matrix\n",
        "import tqdm\n",
        "\n",
        "import itertools\n",
        "import os, shutil, time\n",
        "import random, glob\n",
        "import matplotlib.pyplot as plt\n",
        "import cv2\n",
        "\n",
        "from google.colab import drive\n",
        "drive.mount('/content/drive')"
      ],
      "execution_count": null,
      "outputs": []
    },
    {
      "cell_type": "markdown",
      "metadata": {
        "id": "6woVxeFJoIzY"
      },
      "source": [
        "Checking GPU availability"
      ]
    },
    {
      "cell_type": "code",
      "metadata": {
        "id": "4iCcNzpCoC4A"
      },
      "source": [
        "physical_devices = tf.config.experimental.list_physical_devices(\"GPU\")\n",
        "print(\"Number of GPUs available : \",len(physical_devices))\n",
        "try:\n",
        "    tf.config.experimental.set_memory_growth(physical_devices[0],True)\n",
        "except:\n",
        "    pass"
      ],
      "execution_count": null,
      "outputs": []
    },
    {
      "cell_type": "code",
      "metadata": {
        "id": "1rtCvp0joPLG"
      },
      "source": [
        "test_images = glob.glob(\"/content/drive/MyDrive/Datasets/Cats_vs_Dogs/test1/*.jpg\")\n",
        "train_images = glob.glob(\"/content/drive/MyDrive/Datasets/Cats_vs_Dogs/train/*.jpg\")"
      ],
      "execution_count": null,
      "outputs": []
    },
    {
      "cell_type": "code",
      "metadata": {
        "id": "MJmysDN1oS6g"
      },
      "source": [
        "len(test_images),len(train_images)"
      ],
      "execution_count": null,
      "outputs": []
    },
    {
      "cell_type": "code",
      "metadata": {
        "id": "BnOH-KeJoV2X"
      },
      "source": [
        "take_subset_images = True\n",
        "\n",
        "if take_subset_images:\n",
        "    all_images = train_images[:1000]        \n",
        "else:\n",
        "    all_images = train_images"
      ],
      "execution_count": null,
      "outputs": []
    },
    {
      "cell_type": "code",
      "metadata": {
        "id": "JrbxlC3DoWjQ"
      },
      "source": [
        "IMG_SIZE = 224\n",
        "CATEGORIES = [\"cat\",\"dog\"]\n",
        "BATCH_SIZE = 100\n",
        "VAL_SPLIT = 0.2\n",
        "EPOCHS = 5"
      ],
      "execution_count": null,
      "outputs": []
    },
    {
      "cell_type": "code",
      "metadata": {
        "id": "E4WfWDsZoYSx"
      },
      "source": [
        "manual_processing = False\n",
        "\n",
        "if manual_processing:\n",
        "    input_images = []\n",
        "    labels = []\n",
        "    for image in tqdm.tqdm(all_images,desc=\"Processing images \"):\n",
        "\n",
        "        name = str(image).split(\"/\")[-1]\n",
        "        name = str(name).split(\".\")[0]\n",
        "        labels.append(CATEGORIES.index(name))\n",
        "\n",
        "        img_array = cv2.imread(image,cv2.IMREAD_GRAYSCALE)\n",
        "        img_array = cv2.resize(img_array,(IMG_SIZE,IMG_SIZE))\n",
        "        input_images.append(img_array)\n",
        "\n",
        "else:\n",
        "\n",
        "    if os.path.isdir(\"/content/drive/MyDrive/Datasets/Cats_vs_Dogs/training/dog\") is False:\n",
        "        os.makedirs(\"/content/drive/MyDrive/Datasets/Cats_vs_Dogs/training/dog\")\n",
        "        os.makedirs(\"/content/drive/MyDrive/Datasets/Cats_vs_Dogs/training/cat\")\n",
        "\n",
        "        for image in tqdm.tqdm(train_images,desc=\"Moving images \"):\n",
        "            name = str(image).split(\"/\")[-1]\n",
        "            name = str(name).split(\".\")[0]\n",
        "            shutil.move(image,\"/content/drive/MyDrive/Datasets/Cats_vs_Dogs/training/\"+name+\"/\")\n",
        "\n",
        "    train_path = \"/content/drive/MyDrive/Datasets/Cats_vs_Dogs/training\"\n",
        "\n",
        "    datagen = ImageDataGenerator(preprocessing_function=tf.keras.applications.vgg16.preprocess_input,validation_split=VAL_SPLIT)\n",
        "\n",
        "    training_batches = datagen.flow_from_directory(directory=train_path,target_size=(IMG_SIZE,IMG_SIZE),classes=CATEGORIES,batch_size=BATCH_SIZE,subset=\"training\")\n",
        "    validation_batches = datagen.flow_from_directory(directory=train_path,target_size=(IMG_SIZE,IMG_SIZE),classes=CATEGORIES,batch_size=BATCH_SIZE,subset=\"validation\")"
      ],
      "execution_count": null,
      "outputs": []
    },
    {
      "cell_type": "code",
      "metadata": {
        "id": "_GYuI4icoaUj"
      },
      "source": [
        "def plotImages(images_arr):\n",
        "    fig, axes = plt.subplots(1,10,figsize=(20,20))\n",
        "    axes = axes.flatten()\n",
        "    for img,ax in zip(images_arr,axes):\n",
        "        ax.imshow(img)\n",
        "        ax.axis(\"off\")\n",
        "    plt.tight_layout()\n",
        "    plt.show()"
      ],
      "execution_count": null,
      "outputs": []
    },
    {
      "cell_type": "code",
      "metadata": {
        "id": "69ZsG4-focGC"
      },
      "source": [
        "img,target = next(training_batches)\n",
        "plotImages(img)"
      ],
      "execution_count": null,
      "outputs": []
    },
    {
      "cell_type": "markdown",
      "metadata": {
        "id": "E_rvzQGnofsU"
      },
      "source": [
        "Build Model"
      ]
    },
    {
      "cell_type": "code",
      "metadata": {
        "id": "E0ViGGa7odp9"
      },
      "source": [
        "model = Sequential([\n",
        "    Conv2D(filters=64, kernel_size=(3,3),activation=\"relu\",padding=\"same\",input_shape=(IMG_SIZE,IMG_SIZE,3)),\n",
        "    MaxPool2D(pool_size=(2,2),strides=2),\n",
        "    Conv2D(filters=128,kernel_size=(3,3),activation=\"relu\",padding=\"same\"),\n",
        "    MaxPool2D(pool_size=(2,2),strides=2),\n",
        "    Flatten(),\n",
        "    Dense(units=4096,activation=\"relu\")\n",
        "])"
      ],
      "execution_count": null,
      "outputs": []
    },
    {
      "cell_type": "code",
      "metadata": {
        "id": "Hkz-57x3omlG"
      },
      "source": [
        "model.compile(optimizer=Adam(learning_rate=0.001),loss=\"categorical_crossentropy\",metrics=[\"accuracy\"])"
      ],
      "execution_count": null,
      "outputs": []
    },
    {
      "cell_type": "code",
      "metadata": {
        "id": "xi4E2dzMookD"
      },
      "source": [
        "model.summary()"
      ],
      "execution_count": null,
      "outputs": []
    },
    {
      "cell_type": "code",
      "metadata": {
        "id": "jC9mBGOXoqMe"
      },
      "source": [
        "model.fit(x=training_batches,validation_data=validation_batches,epochs=10,verbose=1)"
      ],
      "execution_count": null,
      "outputs": []
    }
  ]
}