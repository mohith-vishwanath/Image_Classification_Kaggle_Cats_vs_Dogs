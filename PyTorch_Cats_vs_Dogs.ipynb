{
  "nbformat": 4,
  "nbformat_minor": 0,
  "metadata": {
    "colab": {
      "name": "PyTorch - Cats vs Dogs.ipynb",
      "provenance": [],
      "authorship_tag": "ABX9TyM+V5WQdP+7xkOpWY48MxZk",
      "include_colab_link": true
    },
    "kernelspec": {
      "display_name": "Python 3",
      "name": "python3"
    },
    "language_info": {
      "name": "python"
    },
    "accelerator": "GPU"
  },
  "cells": [
    {
      "cell_type": "markdown",
      "metadata": {
        "id": "view-in-github",
        "colab_type": "text"
      },
      "source": [
        "<a href=\"https://colab.research.google.com/github/mohith-vishwanath/Image_Classification_Kaggle_Cats_vs_Dogs/blob/main/PyTorch_Cats_vs_Dogs.ipynb\" target=\"_parent\"><img src=\"https://colab.research.google.com/assets/colab-badge.svg\" alt=\"Open In Colab\"/></a>"
      ]
    },
    {
      "cell_type": "markdown",
      "metadata": {
        "id": "Dw9bSwArOrcv"
      },
      "source": [
        "## PyTorch Implementation"
      ]
    },
    {
      "cell_type": "code",
      "metadata": {
        "id": "0o8yZNJLqN8Q"
      },
      "source": [
        "import torch\n",
        "import torch.nn as nn\n",
        "import torch.nn.functional as F\n",
        "import torch.optim as optim\n",
        "import torchvision\n",
        "import torchvision.transforms as transforms\n",
        "from torchvision.datasets import ImageFolder\n",
        "\n",
        "from torch.utils.data import DataLoader\n",
        "\n",
        "import numpy as np\n",
        "\n",
        "import itertools\n",
        "import os, shutil, time\n",
        "import random, glob\n",
        "import matplotlib.pyplot as plt\n",
        "import cv2\n",
        "\n",
        "from google.colab import drive\n",
        "drive.mount('/content/drive')"
      ],
      "execution_count": 2,
      "outputs": []
    },
    {
      "cell_type": "code",
      "metadata": {
        "colab": {
          "base_uri": "https://localhost:8080/"
        },
        "id": "5GJc5EgBbrvZ",
        "outputId": "78e97a11-1d15-49d3-f492-574321007832"
      },
      "source": [
        "device = \"\"\n",
        "if torch.cuda.is_available():\n",
        "    device=\"cuda:0\"\n",
        "    print(\"GPU available\")\n",
        "else:\n",
        "    device=\"cpu\"\n",
        "    print(\"GPU not available\")"
      ],
      "execution_count": 3,
      "outputs": [
        {
          "output_type": "stream",
          "text": [
            "GPU available\n"
          ],
          "name": "stdout"
        }
      ]
    },
    {
      "cell_type": "code",
      "metadata": {
        "id": "fGLW9FpG2bNG"
      },
      "source": [
        "IMG_SIZE = 224\n",
        "CATEGORIES = [\"cat\",\"dog\"]\n",
        "BATCH_SIZE = 100\n",
        "VAL_SPLIT = 0.2\n",
        "EPOCHS = 5"
      ],
      "execution_count": 8,
      "outputs": []
    },
    {
      "cell_type": "code",
      "metadata": {
        "id": "8vVvtb8jdRA5"
      },
      "source": [
        "def get_total_correct_predictions(preds,targets):\n",
        "    return preds.argmax(dim=1).eq(labels).sum().item()"
      ],
      "execution_count": 4,
      "outputs": []
    },
    {
      "cell_type": "code",
      "metadata": {
        "id": "KBsglUK0PXae"
      },
      "source": [
        "def load_images_from_root(root,batch_size):\n",
        "    transformations = transforms.Compose([\n",
        "        transforms.Grayscale(1),\n",
        "        transforms.Resize((IMG_SIZE,IMG_SIZE)),\n",
        "        transforms.ToTensor()\n",
        "    ])\n",
        "\n",
        "    train_data = ImageFolder(root=root,transform=transformations)\n",
        "    train_loader = DataLoader(train_data,batch_size=batch_size,shuffle=True)\n",
        "\n",
        "    print(\"Class Encoding\")\n",
        "    print(train_data.class_to_idx)\n",
        "\n",
        "    return train_data, train_loader"
      ],
      "execution_count": 6,
      "outputs": []
    },
    {
      "cell_type": "code",
      "metadata": {
        "colab": {
          "base_uri": "https://localhost:8080/"
        },
        "id": "bbERS2SZQTw0",
        "outputId": "ddce08a8-77fc-4cd9-e91f-fb9b276a8064"
      },
      "source": [
        "train_images_path = \"/content/drive/MyDrive/Datasets/Cats_vs_Dogs/training/\"\n",
        "train_data, train_loader = load_images_from_root(train_images_path,100)"
      ],
      "execution_count": 9,
      "outputs": [
        {
          "output_type": "stream",
          "text": [
            "Class Encoding\n",
            "{'cat': 0, 'dog': 1}\n"
          ],
          "name": "stdout"
        }
      ]
    },
    {
      "cell_type": "code",
      "metadata": {
        "id": "9OoTZjsnQcF0"
      },
      "source": [
        "pytorch_model = nn.Sequential(\n",
        "    nn.Conv2d(in_channels=1,out_channels=6,kernel_size=5),\n",
        "    nn.ReLU(),\n",
        "    nn.MaxPool2d(kernel_size=2,stride=2),\n",
        "    nn.Conv2d(in_channels=6,out_channels=12,kernel_size=5),\n",
        "    nn.ReLU(),\n",
        "    nn.MaxPool2d(kernel_size=2,stride=2),\n",
        "    nn.Flatten(start_dim=1),\n",
        "    nn.Linear(in_features=12*53*53,out_features=120),\n",
        "    nn.ReLU(),\n",
        "    nn.Linear(in_features=120,out_features=40),\n",
        "    nn.ReLU(),\n",
        "    nn.Linear(in_features=40,out_features=10),\n",
        "    nn.ReLU(),\n",
        "    nn.Linear(in_features=10,out_features=2),\n",
        ")"
      ],
      "execution_count": 10,
      "outputs": []
    },
    {
      "cell_type": "code",
      "metadata": {
        "colab": {
          "base_uri": "https://localhost:8080/"
        },
        "id": "lvaaET3ca2Hx",
        "outputId": "284110af-e3e7-436f-dce9-61fdb54f2645"
      },
      "source": [
        "pytorch_model = pytorch_model.to(device)\n",
        "print(pytorch_model)"
      ],
      "execution_count": 11,
      "outputs": [
        {
          "output_type": "stream",
          "text": [
            "Sequential(\n",
            "  (0): Conv2d(1, 6, kernel_size=(5, 5), stride=(1, 1))\n",
            "  (1): ReLU()\n",
            "  (2): MaxPool2d(kernel_size=2, stride=2, padding=0, dilation=1, ceil_mode=False)\n",
            "  (3): Conv2d(6, 12, kernel_size=(5, 5), stride=(1, 1))\n",
            "  (4): ReLU()\n",
            "  (5): MaxPool2d(kernel_size=2, stride=2, padding=0, dilation=1, ceil_mode=False)\n",
            "  (6): Flatten(start_dim=1, end_dim=-1)\n",
            "  (7): Linear(in_features=33708, out_features=120, bias=True)\n",
            "  (8): ReLU()\n",
            "  (9): Linear(in_features=120, out_features=40, bias=True)\n",
            "  (10): ReLU()\n",
            "  (11): Linear(in_features=40, out_features=10, bias=True)\n",
            "  (12): ReLU()\n",
            "  (13): Linear(in_features=10, out_features=2, bias=True)\n",
            ")\n"
          ],
          "name": "stdout"
        }
      ]
    },
    {
      "cell_type": "code",
      "metadata": {
        "colab": {
          "base_uri": "https://localhost:8080/"
        },
        "id": "wJOTENwGbjRC",
        "outputId": "98a578de-ad2a-4c7f-d534-79aa45d0bd69"
      },
      "source": [
        "print(f'Total number of batches : {BATCH_SIZE}')\n",
        "print(f'Running on : {device}')\n",
        "print(f'Number of epochs : {EPOCHS}')\n",
        "time.sleep(0.5)\n",
        "\n",
        "optimizer = optim.Adam(pytorch_model.parameters(),lr=0.001)\n",
        "for epoch in range(EPOCHS):\n",
        "    total_correct = 0\n",
        "    for batch in tqdm.tqdm(train_loader,desc=f'Epoch {epoch} '):\n",
        "        optimizer.zero_grad()\n",
        "        images, labels = batch\n",
        "        images = images.to(device)\n",
        "        labels = labels.to(device)\n",
        "        prediction = pytorch_model(images)\n",
        "        loss = F.cross_entropy(prediction,labels)\n",
        "        loss.backward()\n",
        "        optimizer.step()\n",
        "        total_correct += get_total_correct_predictions(prediction,labels)\n",
        "    print(f'Epoch {epoch} | Accuracy {round((total_correct/len(train_loader))*100,3)}%')"
      ],
      "execution_count": null,
      "outputs": [
        {
          "output_type": "stream",
          "text": [
            "Total number of batches : 100\n",
            "Running on : cuda:0\n",
            "Number of epochs : 5\n"
          ],
          "name": "stdout"
        },
        {
          "output_type": "stream",
          "text": [
            "\n",
            "\n",
            "Epoch 0 :   0%|          | 0/251 [00:00<?, ?it/s]\u001b[A\u001b[A\n",
            "\n",
            "Epoch 0 :   0%|          | 1/251 [00:23<1:36:39, 23.20s/it]\u001b[A\u001b[A\n",
            "\n",
            "Epoch 0 :   1%|          | 2/251 [00:45<1:34:49, 22.85s/it]\u001b[A\u001b[A\n",
            "\n",
            "Epoch 0 :   1%|          | 3/251 [01:06<1:32:39, 22.42s/it]\u001b[A\u001b[A\n",
            "\n",
            "Epoch 0 :   2%|▏         | 4/251 [01:28<1:31:08, 22.14s/it]\u001b[A\u001b[A\n",
            "\n",
            "Epoch 0 :   2%|▏         | 5/251 [01:49<1:30:00, 21.95s/it]\u001b[A\u001b[A\n",
            "\n",
            "Epoch 0 :   2%|▏         | 6/251 [02:11<1:29:48, 21.99s/it]\u001b[A\u001b[A\n",
            "\n",
            "Epoch 0 :   3%|▎         | 7/251 [02:33<1:28:42, 21.82s/it]\u001b[A\u001b[A\n",
            "\n",
            "Epoch 0 :   3%|▎         | 8/251 [02:54<1:28:20, 21.81s/it]\u001b[A\u001b[A\n",
            "\n",
            "Epoch 0 :   4%|▎         | 9/251 [03:17<1:28:16, 21.89s/it]\u001b[A\u001b[A\n",
            "\n",
            "Epoch 0 :   4%|▍         | 10/251 [03:38<1:27:59, 21.91s/it]\u001b[A\u001b[A\n",
            "\n",
            "Epoch 0 :   4%|▍         | 11/251 [03:59<1:26:29, 21.62s/it]\u001b[A\u001b[A\n",
            "\n",
            "Epoch 0 :   5%|▍         | 12/251 [04:23<1:27:58, 22.09s/it]\u001b[A\u001b[A\n",
            "\n",
            "Epoch 0 :   5%|▌         | 13/251 [04:44<1:27:03, 21.95s/it]\u001b[A\u001b[A\n",
            "\n",
            "Epoch 0 :   6%|▌         | 14/251 [05:07<1:27:35, 22.17s/it]\u001b[A\u001b[A\n",
            "\n",
            "Epoch 0 :   6%|▌         | 15/251 [05:30<1:27:59, 22.37s/it]\u001b[A\u001b[A\n",
            "\n",
            "Epoch 0 :   6%|▋         | 16/251 [05:52<1:27:41, 22.39s/it]\u001b[A\u001b[A\n",
            "\n",
            "Epoch 0 :   7%|▋         | 17/251 [06:14<1:27:14, 22.37s/it]\u001b[A\u001b[A\n",
            "\n",
            "Epoch 0 :   7%|▋         | 18/251 [06:36<1:26:25, 22.25s/it]\u001b[A\u001b[A\n",
            "\n",
            "Epoch 0 :   8%|▊         | 19/251 [06:59<1:26:02, 22.25s/it]\u001b[A\u001b[A\n",
            "\n",
            "Epoch 0 :   8%|▊         | 20/251 [07:20<1:24:47, 22.02s/it]\u001b[A\u001b[A\n",
            "\n",
            "Epoch 0 :   8%|▊         | 21/251 [07:41<1:22:55, 21.63s/it]\u001b[A\u001b[A\n",
            "\n",
            "Epoch 0 :   9%|▉         | 22/251 [08:03<1:22:56, 21.73s/it]\u001b[A\u001b[A\n",
            "\n",
            "Epoch 0 :   9%|▉         | 23/251 [08:25<1:23:08, 21.88s/it]\u001b[A\u001b[A\n",
            "\n",
            "Epoch 0 :  10%|▉         | 24/251 [08:46<1:22:00, 21.68s/it]\u001b[A\u001b[A\n",
            "\n",
            "Epoch 0 :  10%|▉         | 25/251 [09:08<1:21:36, 21.67s/it]\u001b[A\u001b[A\n",
            "\n",
            "Epoch 0 :  10%|█         | 26/251 [09:29<1:20:19, 21.42s/it]\u001b[A\u001b[A\n",
            "\n",
            "Epoch 0 :  11%|█         | 27/251 [09:51<1:20:37, 21.60s/it]\u001b[A\u001b[A\n",
            "\n",
            "Epoch 0 :  11%|█         | 28/251 [10:12<1:20:01, 21.53s/it]\u001b[A\u001b[A\n",
            "\n",
            "Epoch 0 :  12%|█▏        | 29/251 [10:34<1:19:53, 21.59s/it]\u001b[A\u001b[A\n",
            "\n",
            "Epoch 0 :  12%|█▏        | 30/251 [10:56<1:20:21, 21.82s/it]\u001b[A\u001b[A\n",
            "\n",
            "Epoch 0 :  12%|█▏        | 31/251 [11:17<1:18:29, 21.41s/it]\u001b[A\u001b[A\n",
            "\n",
            "Epoch 0 :  13%|█▎        | 32/251 [11:39<1:18:35, 21.53s/it]\u001b[A\u001b[A\n",
            "\n",
            "Epoch 0 :  13%|█▎        | 33/251 [12:00<1:18:25, 21.58s/it]\u001b[A\u001b[A\n",
            "\n",
            "Epoch 0 :  14%|█▎        | 34/251 [12:21<1:17:04, 21.31s/it]\u001b[A\u001b[A\n",
            "\n",
            "Epoch 0 :  14%|█▍        | 35/251 [12:42<1:16:51, 21.35s/it]\u001b[A\u001b[A\n",
            "\n",
            "Epoch 0 :  14%|█▍        | 36/251 [13:04<1:17:11, 21.54s/it]\u001b[A\u001b[A\n",
            "\n",
            "Epoch 0 :  15%|█▍        | 37/251 [13:27<1:17:50, 21.82s/it]\u001b[A\u001b[A\n",
            "\n",
            "Epoch 0 :  15%|█▌        | 38/251 [13:49<1:18:08, 22.01s/it]\u001b[A\u001b[A\n",
            "\n",
            "Epoch 0 :  16%|█▌        | 39/251 [14:10<1:16:03, 21.53s/it]\u001b[A\u001b[A\n",
            "\n",
            "Epoch 0 :  16%|█▌        | 40/251 [14:31<1:15:15, 21.40s/it]\u001b[A\u001b[A\n",
            "\n",
            "Epoch 0 :  16%|█▋        | 41/251 [14:52<1:15:09, 21.47s/it]\u001b[A\u001b[A\n",
            "\n",
            "Epoch 0 :  17%|█▋        | 42/251 [15:14<1:14:41, 21.44s/it]\u001b[A\u001b[A\n",
            "\n",
            "Epoch 0 :  17%|█▋        | 43/251 [15:36<1:14:43, 21.55s/it]\u001b[A\u001b[A\n",
            "\n",
            "Epoch 0 :  18%|█▊        | 44/251 [15:58<1:15:23, 21.85s/it]\u001b[A\u001b[A\n",
            "\n",
            "Epoch 0 :  18%|█▊        | 45/251 [16:21<1:15:46, 22.07s/it]\u001b[A\u001b[A\n",
            "\n",
            "Epoch 0 :  18%|█▊        | 46/251 [16:43<1:15:06, 21.98s/it]\u001b[A\u001b[A\n",
            "\n",
            "Epoch 0 :  19%|█▊        | 47/251 [17:04<1:14:04, 21.79s/it]\u001b[A\u001b[A\n",
            "\n",
            "Epoch 0 :  19%|█▉        | 48/251 [17:27<1:14:52, 22.13s/it]\u001b[A\u001b[A\n",
            "\n",
            "Epoch 0 :  20%|█▉        | 49/251 [17:50<1:15:39, 22.47s/it]\u001b[A\u001b[A\n",
            "\n",
            "Epoch 0 :  20%|█▉        | 50/251 [18:11<1:13:42, 22.00s/it]\u001b[A\u001b[A\n",
            "\n",
            "Epoch 0 :  20%|██        | 51/251 [18:34<1:13:52, 22.16s/it]\u001b[A\u001b[A\n",
            "\n",
            "Epoch 0 :  21%|██        | 52/251 [18:56<1:13:24, 22.13s/it]\u001b[A\u001b[A\n",
            "\n",
            "Epoch 0 :  21%|██        | 53/251 [19:16<1:11:43, 21.74s/it]\u001b[A\u001b[A\n",
            "\n",
            "Epoch 0 :  22%|██▏       | 54/251 [19:38<1:11:22, 21.74s/it]\u001b[A\u001b[A\n",
            "\n",
            "Epoch 0 :  22%|██▏       | 55/251 [19:59<1:10:36, 21.61s/it]\u001b[A\u001b[A\n",
            "\n",
            "Epoch 0 :  22%|██▏       | 56/251 [20:22<1:10:41, 21.75s/it]\u001b[A\u001b[A\n",
            "\n",
            "Epoch 0 :  23%|██▎       | 57/251 [20:44<1:11:20, 22.06s/it]\u001b[A\u001b[A\n",
            "\n",
            "Epoch 0 :  23%|██▎       | 58/251 [21:05<1:09:50, 21.71s/it]\u001b[A\u001b[A\n",
            "\n",
            "Epoch 0 :  24%|██▎       | 59/251 [21:26<1:08:54, 21.54s/it]\u001b[A\u001b[A\n",
            "\n",
            "Epoch 0 :  24%|██▍       | 60/251 [21:49<1:09:29, 21.83s/it]\u001b[A\u001b[A\n",
            "\n",
            "Epoch 0 :  24%|██▍       | 61/251 [22:10<1:08:08, 21.52s/it]\u001b[A\u001b[A\n",
            "\n",
            "Epoch 0 :  25%|██▍       | 62/251 [22:30<1:06:51, 21.23s/it]\u001b[A\u001b[A\n",
            "\n",
            "Epoch 0 :  25%|██▌       | 63/251 [22:52<1:06:41, 21.28s/it]\u001b[A\u001b[A\n",
            "\n",
            "Epoch 0 :  25%|██▌       | 64/251 [23:13<1:05:59, 21.17s/it]\u001b[A\u001b[A\n",
            "\n",
            "Epoch 0 :  26%|██▌       | 65/251 [23:35<1:06:37, 21.49s/it]\u001b[A\u001b[A\n",
            "\n",
            "Epoch 0 :  26%|██▋       | 66/251 [23:57<1:06:41, 21.63s/it]\u001b[A\u001b[A\n",
            "\n",
            "Epoch 0 :  27%|██▋       | 67/251 [24:18<1:06:21, 21.64s/it]\u001b[A\u001b[A\n",
            "\n",
            "Epoch 0 :  27%|██▋       | 68/251 [24:39<1:05:12, 21.38s/it]\u001b[A\u001b[A\n",
            "\n",
            "Epoch 0 :  27%|██▋       | 69/251 [25:00<1:04:27, 21.25s/it]\u001b[A\u001b[A\n",
            "\n",
            "Epoch 0 :  28%|██▊       | 70/251 [25:22<1:04:29, 21.38s/it]\u001b[A\u001b[A\n",
            "\n",
            "Epoch 0 :  28%|██▊       | 71/251 [25:44<1:04:36, 21.54s/it]\u001b[A\u001b[A\n",
            "\n",
            "Epoch 0 :  29%|██▊       | 72/251 [26:05<1:04:28, 21.61s/it]\u001b[A\u001b[A\n",
            "\n",
            "Epoch 0 :  29%|██▉       | 73/251 [26:27<1:03:52, 21.53s/it]\u001b[A\u001b[A\n",
            "\n",
            "Epoch 0 :  29%|██▉       | 74/251 [26:49<1:03:39, 21.58s/it]\u001b[A\u001b[A\n",
            "\n",
            "Epoch 0 :  30%|██▉       | 75/251 [27:11<1:03:50, 21.77s/it]\u001b[A\u001b[A\n",
            "\n",
            "Epoch 0 :  30%|███       | 76/251 [27:32<1:02:55, 21.57s/it]\u001b[A\u001b[A\n",
            "\n",
            "Epoch 0 :  31%|███       | 77/251 [27:52<1:01:36, 21.24s/it]\u001b[A\u001b[A\n",
            "\n",
            "Epoch 0 :  31%|███       | 78/251 [28:18<1:05:12, 22.61s/it]\u001b[A\u001b[A\n",
            "\n",
            "Epoch 0 :  31%|███▏      | 79/251 [28:40<1:03:46, 22.24s/it]\u001b[A\u001b[A\n",
            "\n",
            "Epoch 0 :  32%|███▏      | 80/251 [29:01<1:03:00, 22.11s/it]\u001b[A\u001b[A\n",
            "\n",
            "Epoch 0 :  32%|███▏      | 81/251 [29:23<1:02:27, 22.04s/it]\u001b[A\u001b[A\n",
            "\n",
            "Epoch 0 :  33%|███▎      | 82/251 [29:46<1:02:29, 22.19s/it]\u001b[A\u001b[A\n",
            "\n",
            "Epoch 0 :  33%|███▎      | 83/251 [30:08<1:02:18, 22.26s/it]\u001b[A\u001b[A\n",
            "\n",
            "Epoch 0 :  33%|███▎      | 84/251 [30:30<1:01:21, 22.04s/it]\u001b[A\u001b[A\n",
            "\n",
            "Epoch 0 :  34%|███▍      | 85/251 [30:50<59:57, 21.67s/it]  \u001b[A\u001b[A\n",
            "\n",
            "Epoch 0 :  34%|███▍      | 86/251 [31:12<59:29, 21.63s/it]\u001b[A\u001b[A\n",
            "\n",
            "Epoch 0 :  35%|███▍      | 87/251 [31:34<59:37, 21.81s/it]\u001b[A\u001b[A\n",
            "\n",
            "Epoch 0 :  35%|███▌      | 88/251 [31:55<58:30, 21.54s/it]\u001b[A\u001b[A\n",
            "\n",
            "Epoch 0 :  35%|███▌      | 89/251 [32:18<58:59, 21.85s/it]\u001b[A\u001b[A\n",
            "\n",
            "Epoch 0 :  36%|███▌      | 90/251 [32:39<58:22, 21.76s/it]\u001b[A\u001b[A\n",
            "\n",
            "Epoch 0 :  36%|███▋      | 91/251 [33:02<58:56, 22.11s/it]\u001b[A\u001b[A\n",
            "\n",
            "Epoch 0 :  37%|███▋      | 92/251 [33:25<58:45, 22.18s/it]\u001b[A\u001b[A\n",
            "\n",
            "Epoch 0 :  37%|███▋      | 93/251 [33:47<58:35, 22.25s/it]\u001b[A\u001b[A\n",
            "\n",
            "Epoch 0 :  37%|███▋      | 94/251 [34:09<57:44, 22.06s/it]\u001b[A\u001b[A\n",
            "\n",
            "Epoch 0 :  38%|███▊      | 95/251 [34:31<57:58, 22.30s/it]\u001b[A\u001b[A\n",
            "\n",
            "Epoch 0 :  38%|███▊      | 96/251 [34:54<57:52, 22.40s/it]\u001b[A\u001b[A\n",
            "\n",
            "Epoch 0 :  39%|███▊      | 97/251 [35:17<57:33, 22.43s/it]\u001b[A\u001b[A\n",
            "\n",
            "Epoch 0 :  39%|███▉      | 98/251 [35:39<56:58, 22.35s/it]\u001b[A\u001b[A\n",
            "\n",
            "Epoch 0 :  39%|███▉      | 99/251 [36:01<56:27, 22.29s/it]\u001b[A\u001b[A\n",
            "\n",
            "Epoch 0 :  40%|███▉      | 100/251 [36:23<56:19, 22.38s/it]\u001b[A\u001b[A\n",
            "\n",
            "Epoch 0 :  40%|████      | 101/251 [36:46<55:42, 22.28s/it]\u001b[A\u001b[A\n",
            "\n",
            "Epoch 0 :  41%|████      | 102/251 [37:06<54:18, 21.87s/it]\u001b[A\u001b[A\n",
            "\n",
            "Epoch 0 :  41%|████      | 103/251 [37:30<55:12, 22.38s/it]\u001b[A\u001b[A\n",
            "\n",
            "Epoch 0 :  41%|████▏     | 104/251 [37:53<55:15, 22.55s/it]\u001b[A\u001b[A\n",
            "\n",
            "Epoch 0 :  42%|████▏     | 105/251 [38:16<55:15, 22.71s/it]\u001b[A\u001b[A\n",
            "\n",
            "Epoch 0 :  42%|████▏     | 106/251 [38:39<54:47, 22.67s/it]\u001b[A\u001b[A\n",
            "\n",
            "Epoch 0 :  43%|████▎     | 107/251 [39:00<53:42, 22.38s/it]\u001b[A\u001b[A\n",
            "\n",
            "Epoch 0 :  43%|████▎     | 108/251 [39:23<53:18, 22.37s/it]\u001b[A\u001b[A\n",
            "\n",
            "Epoch 0 :  43%|████▎     | 109/251 [39:45<52:38, 22.24s/it]\u001b[A\u001b[A\n",
            "\n",
            "Epoch 0 :  44%|████▍     | 110/251 [40:07<52:33, 22.37s/it]\u001b[A\u001b[A\n",
            "\n",
            "Epoch 0 :  44%|████▍     | 111/251 [40:29<51:59, 22.28s/it]\u001b[A\u001b[A\n",
            "\n",
            "Epoch 0 :  45%|████▍     | 112/251 [40:52<51:59, 22.44s/it]\u001b[A\u001b[A\n",
            "\n",
            "Epoch 0 :  45%|████▌     | 113/251 [41:15<51:46, 22.51s/it]\u001b[A\u001b[A\n",
            "\n",
            "Epoch 0 :  45%|████▌     | 114/251 [41:37<51:19, 22.48s/it]\u001b[A\u001b[A\n",
            "\n",
            "Epoch 0 :  46%|████▌     | 115/251 [42:00<51:14, 22.61s/it]\u001b[A\u001b[A\n",
            "\n",
            "Epoch 0 :  46%|████▌     | 116/251 [42:23<51:14, 22.78s/it]\u001b[A\u001b[A\n",
            "\n",
            "Epoch 0 :  47%|████▋     | 117/251 [42:46<50:35, 22.65s/it]\u001b[A\u001b[A\n",
            "\n",
            "Epoch 0 :  47%|████▋     | 118/251 [43:08<49:50, 22.49s/it]\u001b[A\u001b[A\n",
            "\n",
            "Epoch 0 :  47%|████▋     | 119/251 [43:30<49:36, 22.55s/it]\u001b[A\u001b[A\n",
            "\n",
            "Epoch 0 :  48%|████▊     | 120/251 [43:56<51:01, 23.37s/it]\u001b[A\u001b[A\n",
            "\n",
            "Epoch 0 :  48%|████▊     | 121/251 [44:18<50:00, 23.08s/it]\u001b[A\u001b[A"
          ],
          "name": "stderr"
        }
      ]
    },
    {
      "cell_type": "code",
      "metadata": {
        "id": "HgwebBNhcMZk"
      },
      "source": [
        ""
      ],
      "execution_count": null,
      "outputs": []
    }
  ]
}